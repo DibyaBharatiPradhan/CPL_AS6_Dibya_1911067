{
 "cells": [
  {
   "cell_type": "code",
   "execution_count": 54,
   "id": "45800f9c",
   "metadata": {},
   "outputs": [],
   "source": [
    "%run my_functions_library.ipynb                             # executing my library file\n",
    "\n",
    "import math\n",
    "import matplotlib.pyplot as plt                             # to be used for plotting\n"
   ]
  },
  {
   "cell_type": "markdown",
   "id": "d5ce2da5",
   "metadata": {},
   "source": [
    "# Question 1"
   ]
  },
  {
   "cell_type": "code",
   "execution_count": 55,
   "id": "63e9f0dd",
   "metadata": {},
   "outputs": [
    {
     "name": "stdout",
     "output_type": "stream",
     "text": [
      "No. of iterations              Mid-point                      Trapezoidal                    Simpson                       \n",
      "\n",
      "8                         3.6183138593298727               3.623956949398562              3.6203301434402904       \n",
      "16                        3.619709761707181                3.6211354043642174             3.6201948893527693       \n",
      "24                        3.619972785533525                3.620607687124767              3.620186449815972        \n",
      "\n",
      "Actual value              3.6201836884000755               3.6201848732718958             3.6201849759261933       \n"
     ]
    }
   ],
   "source": [
    "def func_1(x):\n",
    "    return math.sqrt(1+1/x)\n",
    "\n",
    "eps, p, q =10**-6, 1, 4\n",
    "\n",
    "MP=[]                                                            # creating list for mid-point\n",
    "TR=[]                                                            # creating list for mid-point\n",
    "SMP=[]                                                           # creating list for mid-point\n",
    "\n",
    "################################################################################################################################\n",
    "# Below, I'm adding elements to the above created lists\n",
    "\n",
    "n1=8\n",
    "MP.append(int_mid_point(func_1, p, q, n1))\n",
    "TR.append(int_trapezoidal(func_1, p, q, n1))\n",
    "SMP.append(int_simpson(func_1, p, q, n1))\n",
    "\n",
    "n2=16\n",
    "MP.append(int_mid_point(func_1, p, q, n2))\n",
    "TR.append(int_trapezoidal(func_1, p, q, n2))\n",
    "SMP.append(int_simpson(func_1, p, q, n2))\n",
    "\n",
    "n3=24\n",
    "MP.append(int_mid_point(func_1, p, q, n3))\n",
    "TR.append(int_trapezoidal(func_1, p, q, n3))\n",
    "SMP.append(int_simpson(func_1, p, q, n3))\n",
    "\n",
    "################################################################################################################################\n",
    "# Here I am calculating the actual value of integral\n",
    "\n",
    "\n",
    "fn_mp=0.619                                  # for func_1   # feed here maximum of second derivative of function for Mid-point\n",
    "fn_t=0.619                                   # for func_1   # feed here maximum of second derivative of function for trapezoidal\n",
    "fn_s=6.016                                   # for func_1   # feed here maximum of fourth derivative of function for simpson\n",
    "\n",
    "N_mp, N_t, N_s = calculate_N(fn_mp, fn_t, fn_s)\n",
    "\n",
    "MP.append(int_mid_point(func_1, p, q, N_mp))\n",
    "TR.append(int_trapezoidal(func_1, p, q, N_t))\n",
    "SMP.append(int_simpson(func_1, p, q, N_s))\n",
    "################################################################################################################################\n",
    "\n",
    "\n",
    "# printing the values\n",
    "\n",
    "print (\"{:<30} {:<30} {:<30} {:<30}\".format('No. of iterations', 'Mid-point', 'Trapezoidal', 'Simpson'))\n",
    "print()\n",
    "print (\"{:<25} {:<32} {:<30} {:<25}\".format(n1, MP[0], TR[0], SMP[0]))\n",
    "print (\"{:<25} {:<32} {:<30} {:<25}\".format(n2, MP[1], TR[1], SMP[1]))\n",
    "print (\"{:<25} {:<32} {:<30} {:<25}\".format(n3, MP[2], TR[2], SMP[2])) \n",
    "print()\n",
    "print (\"{:<25} {:<32} {:<30} {:<25}\".format('True value', MP[3], TR[3], SMP[3]))\n"
   ]
  },
  {
   "cell_type": "markdown",
   "id": "59f6564d",
   "metadata": {},
   "source": [
    "# Question 2"
   ]
  },
  {
   "cell_type": "code",
   "execution_count": 77,
   "id": "4032770c",
   "metadata": {},
   "outputs": [
    {
     "name": "stdout",
     "output_type": "stream",
     "text": [
      "Simpson :\n",
      " N = 4   ;   integral = 0.6438016157592887 \n",
      "\n",
      "Trapezoidal :\n",
      " N = 28   ;   integral = 0.6438718899363646 \n",
      "\n",
      "Mid-point : \n",
      "N = 20   ;   integral = 0.643710311759088 n\n"
     ]
    }
   ],
   "source": [
    "def func_2(x):\n",
    "    return x*math.sqrt(1+x)\n",
    "\n",
    "eps, p, q = 10**-4, 0, 1\n",
    "\n",
    "\n",
    "fn_mp = 1                                   # for func_2   # feed here maximum of second derivative of function for Mid-point\n",
    "fn_t = 1                                    # for func_2   # feed here maximum of second derivative of function for trapezoidal\n",
    "fn_s = 1.5                                  # for func_2   # feed here maximum of fourth derivative of function for simpson\n",
    "\n",
    "N_mp, N_t, N_s = calculate_N(fn_mp, fn_t, fn_s, eps)\n",
    "\n",
    "MP=(int_mid_point(func_2, p, q, N_mp))\n",
    "TR=(int_trapezoidal(func_2, p, q, N_t))\n",
    "SMP=(int_simpson(func_2, p, q, N_s))\n",
    "\n",
    "print(\"Simpson :\" )\n",
    "print(\" N = \" + str(N_s) , \"  ;   integral = \" + str(SMP) ,\"\\n\")\n",
    "print(\"Trapezoidal :\" )\n",
    "print(\" N = \" + str(N_t) , \"  ;   integral = \" + str(TR) , \"\\n\")\n",
    "print(\"Mid-point : \")\n",
    "print(\"N = \" + str(N_mp) , \"  ;   integral = \" + str(MP) , \"n\")\n"
   ]
  },
  {
   "cell_type": "markdown",
   "id": "b2ce6c38",
   "metadata": {},
   "source": [
    "# Question 3"
   ]
  },
  {
   "cell_type": "code",
   "execution_count": 70,
   "id": "eeaf3f11",
   "metadata": {},
   "outputs": [
    {
     "name": "stdout",
     "output_type": "stream",
     "text": [
      "Please wait\n",
      " Processing will take around 10 seconds\n",
      "The value of the integral in the last iteration is = 3.140063418670694\n"
     ]
    },
    {
     "data": {
      "image/png": "[encoded data removed]",
      "text/plain": [
       "<Figure size 864x432 with 1 Axes>"
      ]
     },
     "metadata": {
      "needs_background": "light"
     },
     "output_type": "display_data"
    }
   ],
   "source": [
    "def func_3(x):\n",
    "    return 4/(1+x**2)\n",
    "\n",
    "print(\"Please wait\\n Processing will take around 10 seconds\")\n",
    "plt.figure(figsize=(12,6))\n",
    "\n",
    "p, q, N = 0, 1, 10\n",
    "\n",
    "NN=[]\n",
    "MC=[]\n",
    "NN.append(N)\n",
    "MC.append(int_monte_carlo(func_3,pdf,p,q,N))\n",
    "\n",
    "\n",
    "x=[0,3000]\n",
    "y=[math.pi,math.pi]\n",
    "plt.plot(x,y,'k-', label='Actual value of PI')\n",
    "\n",
    "for N in range(100, 3001, 100):\n",
    "    NN.append(N)\n",
    "    MC.append(int_monte_carlo(func_3,pdf,p,q,N))\n",
    "plt.plot(NN,MC,'r-o', label='Monte-carlo points')\n",
    "print(\"The value of the integral in the last iteration is = \" + str(MC[-1]))\n",
    "\n",
    "################################################################################################################################\n",
    "'''\n",
    "One could also use N=10 and proceed with a step size of 10 as instructed in question 3 but \n",
    "that will not give any significant improvement. \n",
    "Hence, I made the plot with step size=100 upto 5000 taking a total of 50 points.\n",
    "If one still wishes to use step-size = 10 and work for 100 points, then the following code should be used :\n",
    "\n",
    "x=[0,500]\n",
    "y=[math.pi,math.pi]\n",
    "plt.plot(x,y,'r-', label='Actual value of PI')\n",
    "\n",
    "for N in range(10, 501, 10):\n",
    "    NN.append(N)\n",
    "    MC.append(int_monte_carlo(f3,pdf,a,b,N))\n",
    "plt.plot(NN,MC,'b-o', label='Monte-carlo points')\n",
    "print(\"The value of the integral in the last iteration is = \" + str(MC[-1]))\n",
    "\n",
    "'''\n",
    "################################################################################################################################\n",
    "\n",
    "plt.grid(b=True, which='major', color='k', alpha=1, ls='-', lw=0.5)\n",
    "plt.minorticks_on()\n",
    "plt.grid(b=True, which='minor', color='g', alpha=0.2, ls='-', lw=0.5)\n",
    "plt.ylim(3.12,3.16)\n",
    "plt.legend()\n",
    "plt.show()\n"
   ]
  },
  {
   "cell_type": "markdown",
   "id": "6fdd4872",
   "metadata": {},
   "source": [
    "## Question 4"
   ]
  },
  {
   "cell_type": "code",
   "execution_count": 78,
   "id": "620b1809",
   "metadata": {},
   "outputs": [
    {
     "name": "stdout",
     "output_type": "stream",
     "text": [
      "linear mass density = T = x^2\n",
      "Centre of mass = integral(xT) dx / integral(T) dx\n",
      "\n",
      " Using Mid-point, the centre of mass = 1.5000030206786539\n",
      "\n",
      " Using Trapezoidal, the centre of mass = 1.4999969945303646\n",
      "\n",
      " Using Simpson, the centre of mass = 1.5\n"
     ]
    }
   ],
   "source": [
    "def func_4(x):\n",
    "    return x**3\n",
    "\n",
    "def func_5(x):\n",
    "    return x**2\n",
    "\n",
    "eps, p, q = 10**-6, 0, 2\n",
    "\n",
    "print(\"Linear mass density = T = x^2\")\n",
    "print(\"Centre of mass = integral(xT) dx / integral(T) dx\")\n",
    "\n",
    "################################################################################################################################\n",
    "\n",
    "f4_mp = 12                                  # for func_4   # feed here maximum of second derivative of function for Mid-point\n",
    "f4_t = 12                                   # for func_4   # feed here maximum of second derivative of function for trapezoidal\n",
    "f4_s = 0                                    # for func_4   # feed here maximum of fourth derivative of function for simpson\n",
    "\n",
    "\n",
    "N_mp, N_t, N_s = calculate_N(f4_mp, f4_t, f4_s, eps)\n",
    "\n",
    "MP1=(int_mid_point(func_4, p, q, N_mp))\n",
    "TR1=(int_trapezoidal(func_4, p, q, N_t))\n",
    "SMP1=(int_simpson(func_4, p, q, N_s))\n",
    "\n",
    "################################################################################################################################\n",
    "\n",
    "fn_mp = 2                                  # for func_5   # feed here maximum of second derivative of function for Mid-point\n",
    "fn_t = 2                                   # for func_5   # feed here maximum of second derivative of function for trapezoidal\n",
    "fn_s = 0                                   # for func_5   # feed here maximum of fourth derivative of function for simpson\n",
    "\n",
    "\n",
    "N_mp, N_t, N_s = calculate_N(f5_mp, f5_t, f5_s, eps)\n",
    "\n",
    "MP2=(int_mid_point(func_5, p, q, N_mp))\n",
    "TR2=(int_trapezoidal(func_5, p, q, N_t))\n",
    "SMP2=(int_simpson(func_5, p, q, N_s))\n",
    "\n",
    "################################################################################################################################\n",
    "\n",
    "print(\"\\n Using Mid-point, the centre of mass = \" + str(MP1/MP2))\n",
    "print(\"\\n Using Trapezoidal, the centre of mass = \" + str(TR1/TR2))\n",
    "print(\"\\n Using Simpson, the centre of mass = \" + str(SMP1/SMP2))\n"
   ]
  },
  {
   "cell_type": "code",
   "execution_count": null,
   "id": "95108777",
   "metadata": {},
   "outputs": [],
   "source": []
  }
 ],
 "metadata": {
  "kernelspec": {
   "display_name": "Python 3",
   "language": "python",
   "name": "python3"
  },
  "language_info": {
   "codemirror_mode": {
    "name": "ipython",
    "version": 3
   },
   "file_extension": ".py",
   "mimetype": "text/x-python",
   "name": "python",
   "nbconvert_exporter": "python",
   "pygments_lexer": "ipython3",
   "version": "3.8.10"
  }
 },
 "nbformat": 4,
 "nbformat_minor": 5
}
